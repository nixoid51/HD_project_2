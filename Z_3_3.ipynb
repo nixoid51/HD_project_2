{
 "cells": [
  {
   "cell_type": "markdown",
   "id": "c1a75048",
   "metadata": {},
   "source": [
    "# Подключение библиотек"
   ]
  },
  {
   "cell_type": "code",
   "execution_count": 205,
   "id": "f6bd7789",
   "metadata": {},
   "outputs": [],
   "source": [
    "from pyspark.sql import SparkSession\n",
    "import pyspark.sql.types as T\n",
    "import pyspark.sql.functions as F\n",
    "from datetime import date\n",
    "from pyspark.sql import Window"
   ]
  },
  {
   "cell_type": "markdown",
   "id": "2e376ccb",
   "metadata": {},
   "source": [
    "# Создание SparkSession "
   ]
  },
  {
   "cell_type": "code",
   "execution_count": 206,
   "id": "8d4fcc77",
   "metadata": {},
   "outputs": [],
   "source": [
    "spark = SparkSession.\\\n",
    "        builder.\\\n",
    "        appName(\"pyspark-notebook\").\\\n",
    "        master(\"spark://spark-master:7077\").\\\n",
    "        config(\"spark.executor.memory\", \"512m\").\\\n",
    "        getOrCreate()"
   ]
  },
  {
   "cell_type": "markdown",
   "id": "879f40ec",
   "metadata": {},
   "source": [
    "# Создание фрейма данных Сайт"
   ]
  },
  {
   "cell_type": "code",
   "execution_count": 207,
   "id": "1f685a0a",
   "metadata": {},
   "outputs": [],
   "source": [
    "Schema_site = T.StructType([ \n",
    "                      T.StructField(\"id\", T.IntegerType(), True),\n",
    "                      T.StructField(\"timestamp\", T.LongType(), True),\n",
    "                      T.StructField(\"type\", T.StringType(), True),\n",
    "                      T.StructField(\"page_id\", T.IntegerType(), True),\n",
    "                      T.StructField(\"tag\", T.StringType(), True),\n",
    "                      T.StructField(\"sign\", T.BooleanType(), True)\n",
    "                    ])"
   ]
  },
  {
   "cell_type": "code",
   "execution_count": 289,
   "id": "0695324a",
   "metadata": {},
   "outputs": [],
   "source": [
    "data_site = [(12345, 1667027426, 'click', 101, 'Sport', True), \n",
    "        (12345, 1667127426, 'click', 101, 'Politics', True),\n",
    "        (45845, 1667127526, 'scroll', 101, 'Medicine', True),\n",
    "        (12345, 1667327426, 'click', 102, 'Medicine', True),\n",
    "        (35678, 1667427426, 'click', 102, 'Sport', True),\n",
    "        (43218, 1667527426, 'click', 102, 'Politics', True),\n",
    "        (12345, 1667627426, 'move', 103, 'Sport', True), \n",
    "        (76654, 1667727426, 'visit', 104, 'Politics', False),\n",
    "        (26389, 1667827426, 'click', 105, 'Sport', False),\n",
    "        (45845, 1667927426, 'click', 103, 'Medicine', True),\n",
    "       ]"
   ]
  },
  {
   "cell_type": "code",
   "execution_count": 290,
   "id": "2dd10fec",
   "metadata": {},
   "outputs": [],
   "source": [
    "df_site = spark.createDataFrame(data = data_site, schema = Schema_site)"
   ]
  },
  {
   "cell_type": "code",
   "execution_count": 291,
   "id": "594ec205",
   "metadata": {},
   "outputs": [
    {
     "name": "stdout",
     "output_type": "stream",
     "text": [
      "+-----+----------+------+-------+--------+-----+\n",
      "|   id| timestamp|  type|page_id|     tag| sign|\n",
      "+-----+----------+------+-------+--------+-----+\n",
      "|12345|1667027426| click|    101|   Sport| true|\n",
      "|12345|1667127426| click|    101|Politics| true|\n",
      "|45845|1667127526|scroll|    101|Medicine| true|\n",
      "|12345|1667327426| click|    102|Medicine| true|\n",
      "|35678|1667427426| click|    102|   Sport| true|\n",
      "|43218|1667527426| click|    102|Politics| true|\n",
      "|12345|1667627426|  move|    103|   Sport| true|\n",
      "|76654|1667727426| visit|    104|Politics|false|\n",
      "|26389|1667827426| click|    105|   Sport|false|\n",
      "|45845|1667927426| click|    103|Medicine| true|\n",
      "+-----+----------+------+-------+--------+-----+\n",
      "\n"
     ]
    }
   ],
   "source": [
    "df_site.show()"
   ]
  },
  {
   "cell_type": "markdown",
   "id": "e26633e0",
   "metadata": {},
   "source": [
    "# Преобразование даты в удобный формат"
   ]
  },
  {
   "cell_type": "code",
   "execution_count": 292,
   "id": "a9d4d021",
   "metadata": {},
   "outputs": [
    {
     "name": "stdout",
     "output_type": "stream",
     "text": [
      "+-----+------+-------+--------+-----+-------------------+\n",
      "|   id|  type|page_id|     tag| sign|         event_time|\n",
      "+-----+------+-------+--------+-----+-------------------+\n",
      "|12345| click|    101|   Sport| true|2022-10-29 07:10:26|\n",
      "|12345| click|    101|Politics| true|2022-10-30 10:57:06|\n",
      "|45845|scroll|    101|Medicine| true|2022-10-30 10:58:46|\n",
      "|12345| click|    102|Medicine| true|2022-11-01 18:30:26|\n",
      "|35678| click|    102|   Sport| true|2022-11-02 22:17:06|\n",
      "|43218| click|    102|Politics| true|2022-11-04 02:03:46|\n",
      "|12345|  move|    103|   Sport| true|2022-11-05 05:50:26|\n",
      "|76654| visit|    104|Politics|false|2022-11-06 09:37:06|\n",
      "|26389| click|    105|   Sport|false|2022-11-07 13:23:46|\n",
      "|45845| click|    103|Medicine| true|2022-11-08 17:10:26|\n",
      "+-----+------+-------+--------+-----+-------------------+\n",
      "\n"
     ]
    }
   ],
   "source": [
    "df_site = df_site.select(*[i for i in df_site.columns if i != \"timestamp\"], F.from_unixtime(\"timestamp\").alias(\"event_time\"))\n",
    "df_site.show()"
   ]
  },
  {
   "cell_type": "markdown",
   "id": "2726de4b",
   "metadata": {},
   "source": [
    "#  Вывести топ-5 самых активных посетителей сайта"
   ]
  },
  {
   "cell_type": "code",
   "execution_count": 293,
   "id": "49608ebc",
   "metadata": {},
   "outputs": [
    {
     "name": "stderr",
     "output_type": "stream",
     "text": [
      "[Stage 636:======================================>              (146 + 2) / 200]\r"
     ]
    },
    {
     "name": "stdout",
     "output_type": "stream",
     "text": [
      "+-----+-----+\n",
      "|   id|activ|\n",
      "+-----+-----+\n",
      "|12345|    4|\n",
      "|45845|    2|\n",
      "|43218|    1|\n",
      "|76654|    1|\n",
      "|26389|    1|\n",
      "+-----+-----+\n",
      "only showing top 5 rows\n",
      "\n"
     ]
    },
    {
     "name": "stderr",
     "output_type": "stream",
     "text": [
      "                                                                                \r"
     ]
    }
   ],
   "source": [
    "df_site.groupby(\"id\")\\\n",
    "       .agg(F.count(\"*\").alias(\"activ\"))\\\n",
    "       .orderBy(\"activ\", ascending = False)\\\n",
    "       .show(5)"
   ]
  },
  {
   "cell_type": "markdown",
   "id": "da7372c7",
   "metadata": {},
   "source": [
    "#  Посчитать процент посетителей, у которых есть ЛК"
   ]
  },
  {
   "cell_type": "code",
   "execution_count": 294,
   "id": "f7c55e7b",
   "metadata": {},
   "outputs": [
    {
     "name": "stderr",
     "output_type": "stream",
     "text": [
      "22/12/22 16:27:52 WARN WindowExec: No Partition Defined for Window operation! Moving all data to a single partition, this can cause serious performance degradation.\n"
     ]
    },
    {
     "name": "stdout",
     "output_type": "stream",
     "text": [
      "+----+-------+\n",
      "|sign|percent|\n",
      "+----+-------+\n",
      "|true|   80.0|\n",
      "+----+-------+\n",
      "\n"
     ]
    },
    {
     "name": "stderr",
     "output_type": "stream",
     "text": [
      "                                                                                \r"
     ]
    }
   ],
   "source": [
    "prc_lk = df_site.groupBy('sign')\\\n",
    "            .agg(F.count('*').alias('all'))\\\n",
    "            .withColumn('total', F.sum('all').over(Window.partitionBy()))\\\n",
    "            .withColumn('percent',F.col('all')/F.col('total')*100)\n",
    "prc_lk.select('sign','percent').filter(df_site.sign == True).show()"
   ]
  },
  {
   "cell_type": "markdown",
   "id": "dbb2d002",
   "metadata": {},
   "source": [
    "# Вывести топ-5 страниц сайта по показателю общего кол-ва кликов на данной странице"
   ]
  },
  {
   "cell_type": "code",
   "execution_count": 295,
   "id": "aa892f6d",
   "metadata": {},
   "outputs": [
    {
     "name": "stderr",
     "output_type": "stream",
     "text": [
      "[Stage 641:==============================================>      (174 + 2) / 200]\r"
     ]
    },
    {
     "name": "stdout",
     "output_type": "stream",
     "text": [
      "+-------+-----+---------+\n",
      "|page_id| type|num_click|\n",
      "+-------+-----+---------+\n",
      "|    102|click|        3|\n",
      "|    101|click|        2|\n",
      "|    105|click|        1|\n",
      "|    103|click|        1|\n",
      "+-------+-----+---------+\n",
      "\n"
     ]
    },
    {
     "name": "stderr",
     "output_type": "stream",
     "text": [
      "                                                                                \r"
     ]
    }
   ],
   "source": [
    "df_site.groupby(\"page_id\", \"type\")\\\n",
    "       .agg(F.count(\"*\").alias(\"num_click\"))\\\n",
    "       .orderBy(\"num_click\", ascending = False)\\\n",
    "       .filter(F.col('type') == 'click')\\\n",
    "       .show(5)"
   ]
  },
  {
   "cell_type": "markdown",
   "id": "882654bf",
   "metadata": {},
   "source": [
    "# Добавьте столбец к фрейму данных со значением временного диапазона в рамках суток с размером окна – 4 часа(0-4, 4-8, 8-12 и т.д.)"
   ]
  },
  {
   "cell_type": "code",
   "execution_count": 296,
   "id": "01b9e6ef",
   "metadata": {},
   "outputs": [
    {
     "name": "stdout",
     "output_type": "stream",
     "text": [
      "+-----+------+-------+--------+-----+-------------------+----+\n",
      "|   id|  type|page_id|     tag| sign|         event_time|rang|\n",
      "+-----+------+-------+--------+-----+-------------------+----+\n",
      "|12345| click|    101|   Sport| true|2022-10-29 07:10:26|   2|\n",
      "|12345| click|    101|Politics| true|2022-10-30 10:57:06|   3|\n",
      "|45845|scroll|    101|Medicine| true|2022-10-30 10:58:46|   3|\n",
      "|12345| click|    102|Medicine| true|2022-11-01 18:30:26|   5|\n",
      "|35678| click|    102|   Sport| true|2022-11-02 22:17:06|   6|\n",
      "|43218| click|    102|Politics| true|2022-11-04 02:03:46|   1|\n",
      "|12345|  move|    103|   Sport| true|2022-11-05 05:50:26|   2|\n",
      "|76654| visit|    104|Politics|false|2022-11-06 09:37:06|   3|\n",
      "|26389| click|    105|   Sport|false|2022-11-07 13:23:46|   4|\n",
      "|45845| click|    103|Medicine| true|2022-11-08 17:10:26|   5|\n",
      "+-----+------+-------+--------+-----+-------------------+----+\n",
      "\n"
     ]
    }
   ],
   "source": [
    "df_time = df_site.withColumn(\"rang\", F.floor(F.hour(\"event_time\") / F.lit(4))+1)\n",
    "df_time.show()"
   ]
  },
  {
   "cell_type": "markdown",
   "id": "99147870",
   "metadata": {},
   "source": [
    "# Выведите временной промежуток на основе предыдущего задания, в течение которого было больше всего активностей на сайте."
   ]
  },
  {
   "cell_type": "code",
   "execution_count": 298,
   "id": "7cdb3e07",
   "metadata": {},
   "outputs": [
    {
     "name": "stderr",
     "output_type": "stream",
     "text": [
      "[Stage 648:============================================>        (169 + 2) / 200]\r"
     ]
    },
    {
     "name": "stdout",
     "output_type": "stream",
     "text": [
      "+--------+\n",
      "|rang_max|\n",
      "+--------+\n",
      "|       3|\n",
      "+--------+\n",
      "\n"
     ]
    },
    {
     "name": "stderr",
     "output_type": "stream",
     "text": [
      "                                                                                \r"
     ]
    }
   ],
   "source": [
    "df_time.groupBy(\"rang\")\\\n",
    "       .agg(F.count(\"*\").alias(\"num_time\"))\\\n",
    "       .select(F.max(\"num_time\").alias(\"rang_max\"))\\\n",
    "       .show()"
   ]
  },
  {
   "cell_type": "markdown",
   "id": "cc46e903",
   "metadata": {},
   "source": [
    "# Создание фрейма данных Личный каблинет"
   ]
  },
  {
   "cell_type": "code",
   "execution_count": 105,
   "id": "705cb0a0",
   "metadata": {},
   "outputs": [],
   "source": [
    "Schema_lk = T.StructType([ \n",
    "                      T.StructField(\"id_lk\", T.IntegerType(), True),\n",
    "                      T.StructField(\"User_id\", T.IntegerType(), True),\n",
    "                      T.StructField(\"FIO\", T.StringType(), True),\n",
    "                      T.StructField(\"Date_birth\", T.DateType(), True),\n",
    "                      T.StructField(\"Date_creation\", T.DateType(), True)\n",
    "                    ])"
   ]
  },
  {
   "cell_type": "code",
   "execution_count": 106,
   "id": "be5c9b77",
   "metadata": {},
   "outputs": [],
   "source": [
    "data_lk = [(1, 12345, \"Иванов Иван Иванович\", date(1990, 4, 14),date(2020, 6, 16)), \n",
    "           (2, 45845, \"Петрова Елена Ивановна\", date(1991, 11, 20),date(2021, 8, 4)),\n",
    "           (3, 35678, \"Сидоров Петр Сергеевич\", date(1995, 5, 15),date(2021, 12, 10)),\n",
    "           (4, 43218, \"Сазонова Ирина Петровна\", date(1993, 1, 21),date(2022, 2, 12))\n",
    "       ]"
   ]
  },
  {
   "cell_type": "code",
   "execution_count": 107,
   "id": "5afd22a6",
   "metadata": {},
   "outputs": [],
   "source": [
    "df_lk = spark.createDataFrame(data = data_lk, schema = Schema_lk)"
   ]
  },
  {
   "cell_type": "code",
   "execution_count": 108,
   "id": "08a1440f",
   "metadata": {},
   "outputs": [
    {
     "name": "stderr",
     "output_type": "stream",
     "text": [
      "                                                                                \r"
     ]
    },
    {
     "name": "stdout",
     "output_type": "stream",
     "text": [
      "+-----+-------+--------------------+----------+-------------+\n",
      "|id_lk|User_id|                 FIO|Date_birth|Date_creation|\n",
      "+-----+-------+--------------------+----------+-------------+\n",
      "|    1|  12345|Иванов Иван Иванович|1990-04-14|   2020-06-16|\n",
      "|    2|  45845|Петрова Елена Ива...|1991-11-20|   2021-08-04|\n",
      "|    3|  35678|Сидоров Петр Серг...|1995-05-15|   2021-12-10|\n",
      "|    4|  43218|Сазонова Ирина Пе...|1993-01-21|   2022-02-12|\n",
      "+-----+-------+--------------------+----------+-------------+\n",
      "\n"
     ]
    }
   ],
   "source": [
    "df_lk.show()"
   ]
  },
  {
   "cell_type": "markdown",
   "id": "66977d33",
   "metadata": {},
   "source": [
    "# Вывести фамилии посетителей, которые читали хотя бы одну новость про спорт"
   ]
  },
  {
   "cell_type": "code",
   "execution_count": 299,
   "id": "a6e3270a",
   "metadata": {},
   "outputs": [
    {
     "name": "stderr",
     "output_type": "stream",
     "text": [
      "                                                                                \r"
     ]
    },
    {
     "name": "stdout",
     "output_type": "stream",
     "text": [
      "+-----+-------+--------------------+----------+-------------+-----+------+-------+--------+----+-------------------+\n",
      "|id_lk|User_id|                 FIO|Date_birth|Date_creation|   id|  type|page_id|     tag|sign|         event_time|\n",
      "+-----+-------+--------------------+----------+-------------+-----+------+-------+--------+----+-------------------+\n",
      "|    4|  43218|Сазонова Ирина Пе...|1993-01-21|   2022-02-12|43218| click|    102|Politics|true|2022-11-04 02:03:46|\n",
      "|    2|  45845|Петрова Елена Ива...|1991-11-20|   2021-08-04|45845| click|    103|Medicine|true|2022-11-08 17:10:26|\n",
      "|    2|  45845|Петрова Елена Ива...|1991-11-20|   2021-08-04|45845|scroll|    101|Medicine|true|2022-10-30 10:58:46|\n",
      "|    1|  12345|Иванов Иван Иванович|1990-04-14|   2020-06-16|12345|  move|    103|   Sport|true|2022-11-05 05:50:26|\n",
      "|    1|  12345|Иванов Иван Иванович|1990-04-14|   2020-06-16|12345| click|    101|   Sport|true|2022-10-29 07:10:26|\n",
      "|    1|  12345|Иванов Иван Иванович|1990-04-14|   2020-06-16|12345| click|    101|Politics|true|2022-10-30 10:57:06|\n",
      "|    1|  12345|Иванов Иван Иванович|1990-04-14|   2020-06-16|12345| click|    102|Medicine|true|2022-11-01 18:30:26|\n",
      "|    3|  35678|Сидоров Петр Серг...|1995-05-15|   2021-12-10|35678| click|    102|   Sport|true|2022-11-02 22:17:06|\n",
      "+-----+-------+--------------------+----------+-------------+-----+------+-------+--------+----+-------------------+\n",
      "\n"
     ]
    },
    {
     "name": "stderr",
     "output_type": "stream",
     "text": [
      "                                                                                \r"
     ]
    },
    {
     "name": "stdout",
     "output_type": "stream",
     "text": [
      "+----------+\n",
      "|First_Name|\n",
      "+----------+\n",
      "|   Сидоров|\n",
      "|    Иванов|\n",
      "+----------+\n",
      "\n"
     ]
    }
   ],
   "source": [
    "df_all = df_lk.join(df_site, df_lk.User_id == df_site.id)\n",
    "df_all.show()\n",
    "df_all.withColumn('First_Name', F.split('FIO', ' ')[0])\\\n",
    "      .select(F.col('First_Name')).filter(df_all.tag == 'Sport')\\\n",
    "      .distinct()\\\n",
    "      .show()"
   ]
  },
  {
   "cell_type": "code",
   "execution_count": null,
   "id": "6c36b1d3",
   "metadata": {},
   "outputs": [],
   "source": []
  },
  {
   "cell_type": "code",
   "execution_count": null,
   "id": "b1d8bfc5",
   "metadata": {},
   "outputs": [],
   "source": []
  }
 ],
 "metadata": {
  "kernelspec": {
   "display_name": "Python 3 (ipykernel)",
   "language": "python",
   "name": "python3"
  },
  "language_info": {
   "codemirror_mode": {
    "name": "ipython",
    "version": 3
   },
   "file_extension": ".py",
   "mimetype": "text/x-python",
   "name": "python",
   "nbconvert_exporter": "python",
   "pygments_lexer": "ipython3",
   "version": "3.9.1"
  }
 },
 "nbformat": 4,
 "nbformat_minor": 5
}
